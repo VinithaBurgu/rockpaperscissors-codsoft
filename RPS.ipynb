{
 "cells": [
  {
   "cell_type": "markdown",
   "metadata": {},
   "source": [
    "Rock Papper Scissors Game"
   ]
  },
  {
   "cell_type": "code",
   "execution_count": null,
   "metadata": {},
   "outputs": [
    {
     "name": "stdout",
     "output_type": "stream",
     "text": [
      " Lets Play Rock Paper Scissors Game\n",
      "==================================================\n",
      "Your Choice: rock\n",
      "Computer Choice: scissors\n",
      "==================================================\n",
      "You win!\n",
      "Your Score: 1\n",
      "Computer Score: 0\n"
     ]
    }
   ],
   "source": [
    "import random\n",
    "print(\" Lets Play Rock Paper Scissors Game\")\n",
    "def display_results(user_choice, computer_choice):\n",
    "    win_conditions = {\n",
    "        (\"rock\", \"scissors\"): \"You win!\",\n",
    "        (\"scissors\", \"paper\"): \"You win!\",\n",
    "        (\"paper\", \"rock\"): \"You win!\",\n",
    "        (\"scissors\", \"rock\"): \"You lose!\",\n",
    "        (\"paper\", \"scissors\"): \"You lose!\",\n",
    "        (\"rock\", \"paper\"): \"You lose!\"\n",
    "    }\n",
    "    if user_choice == computer_choice:\n",
    "        return \"It's a tie!\"\n",
    "    return win_conditions.get((user_choice, computer_choice), \"Error\")\n",
    "\n",
    "\n",
    "def play_game():\n",
    "    options = [\"rock\", \"paper\", \"scissors\"]\n",
    "    user_score, computer_score = 0, 0\n",
    "    while True:\n",
    "        user_choice = input(\"Enter Your Choice ('rock', 'paper', 'scissors'): \").lower()\n",
    "        if user_choice not in options:\n",
    "            print(\"Invalid Choice! Please choose from 'rock', 'paper', or 'scissors'.\")\n",
    "            continue\n",
    "\n",
    "        computer_choice = random.choice(options)\n",
    "        print(\"=\" * 50)\n",
    "        print(\"Your Choice:\", user_choice)\n",
    "        print(\"Computer Choice:\", computer_choice)\n",
    "        print(\"=\" * 50)\n",
    "\n",
    "        result = display_results(user_choice, computer_choice)\n",
    "        print(result)\n",
    "\n",
    "        if result == \"You win!\":\n",
    "            user_score += 1\n",
    "        elif result == \"You lose!\":\n",
    "            computer_score += 1\n",
    "\n",
    "        print(\"Your Score:\", user_score)\n",
    "        print(\"Computer Score:\", computer_score)\n",
    "\n",
    "        while True:\n",
    "            play_again = input(\"Do you want to play again? (yes/no): \").lower()\n",
    "            if play_again == \"yes\":\n",
    "                break  \n",
    "            elif play_again == \"no\":\n",
    "                print(\"Thank you for playing!!\")\n",
    "                return  \n",
    "            else:\n",
    "                print(\"Invalid input! Please enter 'yes' or 'no'.\")\n",
    "\n",
    "\n",
    "play_game()\n"
   ]
  }
 ],
 "metadata": {
  "kernelspec": {
   "display_name": "Python 3",
   "language": "python",
   "name": "python3"
  },
  "language_info": {
   "codemirror_mode": {
    "name": "ipython",
    "version": 3
   },
   "file_extension": ".py",
   "mimetype": "text/x-python",
   "name": "python",
   "nbconvert_exporter": "python",
   "pygments_lexer": "ipython3",
   "version": "3.12.4"
  }
 },
 "nbformat": 4,
 "nbformat_minor": 2
}
